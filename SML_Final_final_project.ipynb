{
 "cells": [
  {
   "cell_type": "code",
   "execution_count": 305,
   "id": "japanese-leadership",
   "metadata": {},
   "outputs": [],
   "source": [
    "import numpy as np\n",
    "import pandas as pd\n",
    "import matplotlib.pyplot as plt\n",
    "import seaborn as sns\n",
    "from sklearn.linear_model import LinearRegression, Ridge, Lasso\n",
    "from sklearn.preprocessing import PolynomialFeatures, StandardScaler, LabelEncoder\n",
    "from sklearn.metrics import mean_squared_error, r2_score, mean_absolute_error\n",
    "from sklearn.model_selection import GridSearchCV, RandomizedSearchCV, cross_val_score, KFold\n",
    "from statsmodels.api import OLS\n",
    "from sklearn.model_selection import train_test_split\n",
    "from sklearn.ensemble import RandomForestRegressor\n",
    "from sklearn.metrics import accuracy_score\n",
    "import seaborn as sns\n",
    "from scipy.stats import norm\n",
    "from scipy import stats\n",
    "from sklearn.pipeline import make_pipeline\n",
    "\n",
    "#from sklearn.linear_model import Ridge\n",
    "#from sklearn.linear_model import Lasso\n"
   ]
  },
  {
   "cell_type": "code",
   "execution_count": 306,
   "id": "southern-forth",
   "metadata": {},
   "outputs": [],
   "source": [
    "df = pd.read_csv('AB_NYC_2019.csv',index_col=1)"
   ]
  },
  {
   "cell_type": "code",
   "execution_count": 307,
   "id": "liberal-reliance",
   "metadata": {},
   "outputs": [
    {
     "data": {
      "text/html": [
       "<div>\n",
       "<style scoped>\n",
       "    .dataframe tbody tr th:only-of-type {\n",
       "        vertical-align: middle;\n",
       "    }\n",
       "\n",
       "    .dataframe tbody tr th {\n",
       "        vertical-align: top;\n",
       "    }\n",
       "\n",
       "    .dataframe thead th {\n",
       "        text-align: right;\n",
       "    }\n",
       "</style>\n",
       "<table border=\"1\" class=\"dataframe\">\n",
       "  <thead>\n",
       "    <tr style=\"text-align: right;\">\n",
       "      <th></th>\n",
       "      <th>id</th>\n",
       "      <th>host_id</th>\n",
       "      <th>host_name</th>\n",
       "      <th>neighbourhood_group</th>\n",
       "      <th>neighbourhood</th>\n",
       "      <th>latitude</th>\n",
       "      <th>longitude</th>\n",
       "      <th>room_type</th>\n",
       "      <th>price</th>\n",
       "      <th>minimum_nights</th>\n",
       "      <th>number_of_reviews</th>\n",
       "      <th>last_review</th>\n",
       "      <th>reviews_per_month</th>\n",
       "      <th>calculated_host_listings_count</th>\n",
       "      <th>availability_365</th>\n",
       "    </tr>\n",
       "    <tr>\n",
       "      <th>name</th>\n",
       "      <th></th>\n",
       "      <th></th>\n",
       "      <th></th>\n",
       "      <th></th>\n",
       "      <th></th>\n",
       "      <th></th>\n",
       "      <th></th>\n",
       "      <th></th>\n",
       "      <th></th>\n",
       "      <th></th>\n",
       "      <th></th>\n",
       "      <th></th>\n",
       "      <th></th>\n",
       "      <th></th>\n",
       "      <th></th>\n",
       "    </tr>\n",
       "  </thead>\n",
       "  <tbody>\n",
       "    <tr>\n",
       "      <th>Clean &amp; quiet apt home by the park</th>\n",
       "      <td>2539</td>\n",
       "      <td>2787</td>\n",
       "      <td>John</td>\n",
       "      <td>Brooklyn</td>\n",
       "      <td>Kensington</td>\n",
       "      <td>40.64749</td>\n",
       "      <td>-73.97237</td>\n",
       "      <td>Private room</td>\n",
       "      <td>149</td>\n",
       "      <td>1</td>\n",
       "      <td>9</td>\n",
       "      <td>2018-10-19</td>\n",
       "      <td>0.21</td>\n",
       "      <td>6</td>\n",
       "      <td>365</td>\n",
       "    </tr>\n",
       "    <tr>\n",
       "      <th>Skylit Midtown Castle</th>\n",
       "      <td>2595</td>\n",
       "      <td>2845</td>\n",
       "      <td>Jennifer</td>\n",
       "      <td>Manhattan</td>\n",
       "      <td>Midtown</td>\n",
       "      <td>40.75362</td>\n",
       "      <td>-73.98377</td>\n",
       "      <td>Entire home/apt</td>\n",
       "      <td>225</td>\n",
       "      <td>1</td>\n",
       "      <td>45</td>\n",
       "      <td>2019-05-21</td>\n",
       "      <td>0.38</td>\n",
       "      <td>2</td>\n",
       "      <td>355</td>\n",
       "    </tr>\n",
       "    <tr>\n",
       "      <th>THE VILLAGE OF HARLEM....NEW YORK !</th>\n",
       "      <td>3647</td>\n",
       "      <td>4632</td>\n",
       "      <td>Elisabeth</td>\n",
       "      <td>Manhattan</td>\n",
       "      <td>Harlem</td>\n",
       "      <td>40.80902</td>\n",
       "      <td>-73.94190</td>\n",
       "      <td>Private room</td>\n",
       "      <td>150</td>\n",
       "      <td>3</td>\n",
       "      <td>0</td>\n",
       "      <td>NaN</td>\n",
       "      <td>NaN</td>\n",
       "      <td>1</td>\n",
       "      <td>365</td>\n",
       "    </tr>\n",
       "    <tr>\n",
       "      <th>Cozy Entire Floor of Brownstone</th>\n",
       "      <td>3831</td>\n",
       "      <td>4869</td>\n",
       "      <td>LisaRoxanne</td>\n",
       "      <td>Brooklyn</td>\n",
       "      <td>Clinton Hill</td>\n",
       "      <td>40.68514</td>\n",
       "      <td>-73.95976</td>\n",
       "      <td>Entire home/apt</td>\n",
       "      <td>89</td>\n",
       "      <td>1</td>\n",
       "      <td>270</td>\n",
       "      <td>2019-07-05</td>\n",
       "      <td>4.64</td>\n",
       "      <td>1</td>\n",
       "      <td>194</td>\n",
       "    </tr>\n",
       "    <tr>\n",
       "      <th>Entire Apt: Spacious Studio/Loft by central park</th>\n",
       "      <td>5022</td>\n",
       "      <td>7192</td>\n",
       "      <td>Laura</td>\n",
       "      <td>Manhattan</td>\n",
       "      <td>East Harlem</td>\n",
       "      <td>40.79851</td>\n",
       "      <td>-73.94399</td>\n",
       "      <td>Entire home/apt</td>\n",
       "      <td>80</td>\n",
       "      <td>10</td>\n",
       "      <td>9</td>\n",
       "      <td>2018-11-19</td>\n",
       "      <td>0.10</td>\n",
       "      <td>1</td>\n",
       "      <td>0</td>\n",
       "    </tr>\n",
       "  </tbody>\n",
       "</table>\n",
       "</div>"
      ],
      "text/plain": [
       "                                                    id  host_id    host_name  \\\n",
       "name                                                                           \n",
       "Clean & quiet apt home by the park                2539     2787         John   \n",
       "Skylit Midtown Castle                             2595     2845     Jennifer   \n",
       "THE VILLAGE OF HARLEM....NEW YORK !               3647     4632    Elisabeth   \n",
       "Cozy Entire Floor of Brownstone                   3831     4869  LisaRoxanne   \n",
       "Entire Apt: Spacious Studio/Loft by central park  5022     7192        Laura   \n",
       "\n",
       "                                                 neighbourhood_group  \\\n",
       "name                                                                   \n",
       "Clean & quiet apt home by the park                          Brooklyn   \n",
       "Skylit Midtown Castle                                      Manhattan   \n",
       "THE VILLAGE OF HARLEM....NEW YORK !                        Manhattan   \n",
       "Cozy Entire Floor of Brownstone                             Brooklyn   \n",
       "Entire Apt: Spacious Studio/Loft by central park           Manhattan   \n",
       "\n",
       "                                                 neighbourhood  latitude  \\\n",
       "name                                                                       \n",
       "Clean & quiet apt home by the park                  Kensington  40.64749   \n",
       "Skylit Midtown Castle                                  Midtown  40.75362   \n",
       "THE VILLAGE OF HARLEM....NEW YORK !                     Harlem  40.80902   \n",
       "Cozy Entire Floor of Brownstone                   Clinton Hill  40.68514   \n",
       "Entire Apt: Spacious Studio/Loft by central park   East Harlem  40.79851   \n",
       "\n",
       "                                                  longitude        room_type  \\\n",
       "name                                                                           \n",
       "Clean & quiet apt home by the park                -73.97237     Private room   \n",
       "Skylit Midtown Castle                             -73.98377  Entire home/apt   \n",
       "THE VILLAGE OF HARLEM....NEW YORK !               -73.94190     Private room   \n",
       "Cozy Entire Floor of Brownstone                   -73.95976  Entire home/apt   \n",
       "Entire Apt: Spacious Studio/Loft by central park  -73.94399  Entire home/apt   \n",
       "\n",
       "                                                  price  minimum_nights  \\\n",
       "name                                                                      \n",
       "Clean & quiet apt home by the park                  149               1   \n",
       "Skylit Midtown Castle                               225               1   \n",
       "THE VILLAGE OF HARLEM....NEW YORK !                 150               3   \n",
       "Cozy Entire Floor of Brownstone                      89               1   \n",
       "Entire Apt: Spacious Studio/Loft by central park     80              10   \n",
       "\n",
       "                                                  number_of_reviews  \\\n",
       "name                                                                  \n",
       "Clean & quiet apt home by the park                                9   \n",
       "Skylit Midtown Castle                                            45   \n",
       "THE VILLAGE OF HARLEM....NEW YORK !                               0   \n",
       "Cozy Entire Floor of Brownstone                                 270   \n",
       "Entire Apt: Spacious Studio/Loft by central park                  9   \n",
       "\n",
       "                                                 last_review  \\\n",
       "name                                                           \n",
       "Clean & quiet apt home by the park                2018-10-19   \n",
       "Skylit Midtown Castle                             2019-05-21   \n",
       "THE VILLAGE OF HARLEM....NEW YORK !                      NaN   \n",
       "Cozy Entire Floor of Brownstone                   2019-07-05   \n",
       "Entire Apt: Spacious Studio/Loft by central park  2018-11-19   \n",
       "\n",
       "                                                  reviews_per_month  \\\n",
       "name                                                                  \n",
       "Clean & quiet apt home by the park                             0.21   \n",
       "Skylit Midtown Castle                                          0.38   \n",
       "THE VILLAGE OF HARLEM....NEW YORK !                             NaN   \n",
       "Cozy Entire Floor of Brownstone                                4.64   \n",
       "Entire Apt: Spacious Studio/Loft by central park               0.10   \n",
       "\n",
       "                                                  calculated_host_listings_count  \\\n",
       "name                                                                               \n",
       "Clean & quiet apt home by the park                                             6   \n",
       "Skylit Midtown Castle                                                          2   \n",
       "THE VILLAGE OF HARLEM....NEW YORK !                                            1   \n",
       "Cozy Entire Floor of Brownstone                                                1   \n",
       "Entire Apt: Spacious Studio/Loft by central park                               1   \n",
       "\n",
       "                                                  availability_365  \n",
       "name                                                                \n",
       "Clean & quiet apt home by the park                             365  \n",
       "Skylit Midtown Castle                                          355  \n",
       "THE VILLAGE OF HARLEM....NEW YORK !                            365  \n",
       "Cozy Entire Floor of Brownstone                                194  \n",
       "Entire Apt: Spacious Studio/Loft by central park                 0  "
      ]
     },
     "execution_count": 307,
     "metadata": {},
     "output_type": "execute_result"
    }
   ],
   "source": [
    "df.head()"
   ]
  },
  {
   "cell_type": "code",
   "execution_count": 308,
   "id": "brown-athens",
   "metadata": {},
   "outputs": [
    {
     "data": {
      "text/plain": [
       "(48895, 15)"
      ]
     },
     "execution_count": 308,
     "metadata": {},
     "output_type": "execute_result"
    }
   ],
   "source": [
    "df.shape"
   ]
  },
  {
   "cell_type": "code",
   "execution_count": 309,
   "id": "altered-niagara",
   "metadata": {},
   "outputs": [
    {
     "data": {
      "text/plain": [
       "id                                  int64\n",
       "host_id                             int64\n",
       "host_name                          object\n",
       "neighbourhood_group                object\n",
       "neighbourhood                      object\n",
       "latitude                          float64\n",
       "longitude                         float64\n",
       "room_type                          object\n",
       "price                               int64\n",
       "minimum_nights                      int64\n",
       "number_of_reviews                   int64\n",
       "last_review                        object\n",
       "reviews_per_month                 float64\n",
       "calculated_host_listings_count      int64\n",
       "availability_365                    int64\n",
       "dtype: object"
      ]
     },
     "execution_count": 309,
     "metadata": {},
     "output_type": "execute_result"
    }
   ],
   "source": [
    "# Checking datatypes\n",
    "df.dtypes"
   ]
  },
  {
   "cell_type": "code",
   "execution_count": 310,
   "id": "unsigned-marks",
   "metadata": {},
   "outputs": [
    {
     "data": {
      "text/plain": [
       "id                                    0\n",
       "host_id                               0\n",
       "host_name                            21\n",
       "neighbourhood_group                   0\n",
       "neighbourhood                         0\n",
       "latitude                              0\n",
       "longitude                             0\n",
       "room_type                             0\n",
       "price                                 0\n",
       "minimum_nights                        0\n",
       "number_of_reviews                     0\n",
       "last_review                       10052\n",
       "reviews_per_month                 10052\n",
       "calculated_host_listings_count        0\n",
       "availability_365                      0\n",
       "dtype: int64"
      ]
     },
     "execution_count": 310,
     "metadata": {},
     "output_type": "execute_result"
    }
   ],
   "source": [
    "# Checking null values\n",
    "df.isnull().sum()"
   ]
  },
  {
   "cell_type": "code",
   "execution_count": 311,
   "id": "planned-bradford",
   "metadata": {},
   "outputs": [],
   "source": [
    "# Dropping unnecessary columns,\n",
    "df.drop(['host_name','last_review','host_id','id'], axis=1, inplace=True)"
   ]
  },
  {
   "cell_type": "code",
   "execution_count": 312,
   "id": "secondary-ghost",
   "metadata": {},
   "outputs": [
    {
     "data": {
      "text/html": [
       "<div>\n",
       "<style scoped>\n",
       "    .dataframe tbody tr th:only-of-type {\n",
       "        vertical-align: middle;\n",
       "    }\n",
       "\n",
       "    .dataframe tbody tr th {\n",
       "        vertical-align: top;\n",
       "    }\n",
       "\n",
       "    .dataframe thead th {\n",
       "        text-align: right;\n",
       "    }\n",
       "</style>\n",
       "<table border=\"1\" class=\"dataframe\">\n",
       "  <thead>\n",
       "    <tr style=\"text-align: right;\">\n",
       "      <th></th>\n",
       "      <th>neighbourhood_group</th>\n",
       "      <th>neighbourhood</th>\n",
       "      <th>latitude</th>\n",
       "      <th>longitude</th>\n",
       "      <th>room_type</th>\n",
       "      <th>price</th>\n",
       "      <th>minimum_nights</th>\n",
       "      <th>number_of_reviews</th>\n",
       "      <th>reviews_per_month</th>\n",
       "      <th>calculated_host_listings_count</th>\n",
       "      <th>availability_365</th>\n",
       "    </tr>\n",
       "    <tr>\n",
       "      <th>name</th>\n",
       "      <th></th>\n",
       "      <th></th>\n",
       "      <th></th>\n",
       "      <th></th>\n",
       "      <th></th>\n",
       "      <th></th>\n",
       "      <th></th>\n",
       "      <th></th>\n",
       "      <th></th>\n",
       "      <th></th>\n",
       "      <th></th>\n",
       "    </tr>\n",
       "  </thead>\n",
       "  <tbody>\n",
       "    <tr>\n",
       "      <th>Clean &amp; quiet apt home by the park</th>\n",
       "      <td>Brooklyn</td>\n",
       "      <td>Kensington</td>\n",
       "      <td>40.64749</td>\n",
       "      <td>-73.97237</td>\n",
       "      <td>Private room</td>\n",
       "      <td>149</td>\n",
       "      <td>1</td>\n",
       "      <td>9</td>\n",
       "      <td>0.21</td>\n",
       "      <td>6</td>\n",
       "      <td>365</td>\n",
       "    </tr>\n",
       "    <tr>\n",
       "      <th>Skylit Midtown Castle</th>\n",
       "      <td>Manhattan</td>\n",
       "      <td>Midtown</td>\n",
       "      <td>40.75362</td>\n",
       "      <td>-73.98377</td>\n",
       "      <td>Entire home/apt</td>\n",
       "      <td>225</td>\n",
       "      <td>1</td>\n",
       "      <td>45</td>\n",
       "      <td>0.38</td>\n",
       "      <td>2</td>\n",
       "      <td>355</td>\n",
       "    </tr>\n",
       "    <tr>\n",
       "      <th>THE VILLAGE OF HARLEM....NEW YORK !</th>\n",
       "      <td>Manhattan</td>\n",
       "      <td>Harlem</td>\n",
       "      <td>40.80902</td>\n",
       "      <td>-73.94190</td>\n",
       "      <td>Private room</td>\n",
       "      <td>150</td>\n",
       "      <td>3</td>\n",
       "      <td>0</td>\n",
       "      <td>0.00</td>\n",
       "      <td>1</td>\n",
       "      <td>365</td>\n",
       "    </tr>\n",
       "    <tr>\n",
       "      <th>Cozy Entire Floor of Brownstone</th>\n",
       "      <td>Brooklyn</td>\n",
       "      <td>Clinton Hill</td>\n",
       "      <td>40.68514</td>\n",
       "      <td>-73.95976</td>\n",
       "      <td>Entire home/apt</td>\n",
       "      <td>89</td>\n",
       "      <td>1</td>\n",
       "      <td>270</td>\n",
       "      <td>4.64</td>\n",
       "      <td>1</td>\n",
       "      <td>194</td>\n",
       "    </tr>\n",
       "    <tr>\n",
       "      <th>Entire Apt: Spacious Studio/Loft by central park</th>\n",
       "      <td>Manhattan</td>\n",
       "      <td>East Harlem</td>\n",
       "      <td>40.79851</td>\n",
       "      <td>-73.94399</td>\n",
       "      <td>Entire home/apt</td>\n",
       "      <td>80</td>\n",
       "      <td>10</td>\n",
       "      <td>9</td>\n",
       "      <td>0.10</td>\n",
       "      <td>1</td>\n",
       "      <td>0</td>\n",
       "    </tr>\n",
       "  </tbody>\n",
       "</table>\n",
       "</div>"
      ],
      "text/plain": [
       "                                                 neighbourhood_group  \\\n",
       "name                                                                   \n",
       "Clean & quiet apt home by the park                          Brooklyn   \n",
       "Skylit Midtown Castle                                      Manhattan   \n",
       "THE VILLAGE OF HARLEM....NEW YORK !                        Manhattan   \n",
       "Cozy Entire Floor of Brownstone                             Brooklyn   \n",
       "Entire Apt: Spacious Studio/Loft by central park           Manhattan   \n",
       "\n",
       "                                                 neighbourhood  latitude  \\\n",
       "name                                                                       \n",
       "Clean & quiet apt home by the park                  Kensington  40.64749   \n",
       "Skylit Midtown Castle                                  Midtown  40.75362   \n",
       "THE VILLAGE OF HARLEM....NEW YORK !                     Harlem  40.80902   \n",
       "Cozy Entire Floor of Brownstone                   Clinton Hill  40.68514   \n",
       "Entire Apt: Spacious Studio/Loft by central park   East Harlem  40.79851   \n",
       "\n",
       "                                                  longitude        room_type  \\\n",
       "name                                                                           \n",
       "Clean & quiet apt home by the park                -73.97237     Private room   \n",
       "Skylit Midtown Castle                             -73.98377  Entire home/apt   \n",
       "THE VILLAGE OF HARLEM....NEW YORK !               -73.94190     Private room   \n",
       "Cozy Entire Floor of Brownstone                   -73.95976  Entire home/apt   \n",
       "Entire Apt: Spacious Studio/Loft by central park  -73.94399  Entire home/apt   \n",
       "\n",
       "                                                  price  minimum_nights  \\\n",
       "name                                                                      \n",
       "Clean & quiet apt home by the park                  149               1   \n",
       "Skylit Midtown Castle                               225               1   \n",
       "THE VILLAGE OF HARLEM....NEW YORK !                 150               3   \n",
       "Cozy Entire Floor of Brownstone                      89               1   \n",
       "Entire Apt: Spacious Studio/Loft by central park     80              10   \n",
       "\n",
       "                                                  number_of_reviews  \\\n",
       "name                                                                  \n",
       "Clean & quiet apt home by the park                                9   \n",
       "Skylit Midtown Castle                                            45   \n",
       "THE VILLAGE OF HARLEM....NEW YORK !                               0   \n",
       "Cozy Entire Floor of Brownstone                                 270   \n",
       "Entire Apt: Spacious Studio/Loft by central park                  9   \n",
       "\n",
       "                                                  reviews_per_month  \\\n",
       "name                                                                  \n",
       "Clean & quiet apt home by the park                             0.21   \n",
       "Skylit Midtown Castle                                          0.38   \n",
       "THE VILLAGE OF HARLEM....NEW YORK !                            0.00   \n",
       "Cozy Entire Floor of Brownstone                                4.64   \n",
       "Entire Apt: Spacious Studio/Loft by central park               0.10   \n",
       "\n",
       "                                                  calculated_host_listings_count  \\\n",
       "name                                                                               \n",
       "Clean & quiet apt home by the park                                             6   \n",
       "Skylit Midtown Castle                                                          2   \n",
       "THE VILLAGE OF HARLEM....NEW YORK !                                            1   \n",
       "Cozy Entire Floor of Brownstone                                                1   \n",
       "Entire Apt: Spacious Studio/Loft by central park                               1   \n",
       "\n",
       "                                                  availability_365  \n",
       "name                                                                \n",
       "Clean & quiet apt home by the park                             365  \n",
       "Skylit Midtown Castle                                          355  \n",
       "THE VILLAGE OF HARLEM....NEW YORK !                            365  \n",
       "Cozy Entire Floor of Brownstone                                194  \n",
       "Entire Apt: Spacious Studio/Loft by central park                 0  "
      ]
     },
     "execution_count": 312,
     "metadata": {},
     "output_type": "execute_result"
    }
   ],
   "source": [
    "df.fillna({'reviews_per_month':0}, inplace=True)\n",
    "df.head()"
   ]
  },
  {
   "cell_type": "code",
   "execution_count": 313,
   "id": "functioning-determination",
   "metadata": {
    "scrolled": true
   },
   "outputs": [
    {
     "data": {
      "text/plain": [
       "neighbourhood_group               0\n",
       "neighbourhood                     0\n",
       "latitude                          0\n",
       "longitude                         0\n",
       "room_type                         0\n",
       "price                             0\n",
       "minimum_nights                    0\n",
       "number_of_reviews                 0\n",
       "reviews_per_month                 0\n",
       "calculated_host_listings_count    0\n",
       "availability_365                  0\n",
       "dtype: int64"
      ]
     },
     "execution_count": 313,
     "metadata": {},
     "output_type": "execute_result"
    }
   ],
   "source": [
    "df.isnull().sum()"
   ]
  },
  {
   "cell_type": "code",
   "execution_count": 314,
   "id": "million-nomination",
   "metadata": {},
   "outputs": [
    {
     "name": "stderr",
     "output_type": "stream",
     "text": [
      "C:\\Users\\admin\\.conda\\envs\\mldl\\lib\\site-packages\\seaborn\\_decorators.py:43: FutureWarning: Pass the following variable as a keyword arg: x. From version 0.12, the only valid positional argument will be `data`, and passing other arguments without an explicit keyword will result in an error or misinterpretation.\n",
      "  FutureWarning\n"
     ]
    },
    {
     "data": {
      "text/plain": [
       "Text(0.5, 1.0, 'Neighbourhood Group')"
      ]
     },
     "execution_count": 314,
     "metadata": {},
     "output_type": "execute_result"
    },
    {
     "data": {
      "image/png": "[encoded data removed]",
      "text/plain": [
       "<Figure size 720x720 with 1 Axes>"
      ]
     },
     "metadata": {
      "needs_background": "light"
     },
     "output_type": "display_data"
    }
   ],
   "source": [
    "sn.countplot(df['neighbourhood_group'], palette=\"plasma\")\n",
    "fig = plt.gcf()\n",
    "fig.set_size_inches(10,10)\n",
    "plt.title('Neighbourhood Group')"
   ]
  },
  {
   "cell_type": "code",
   "execution_count": 315,
   "id": "rural-afternoon",
   "metadata": {},
   "outputs": [
    {
     "data": {
      "text/html": [
       "<div>\n",
       "<style scoped>\n",
       "    .dataframe tbody tr th:only-of-type {\n",
       "        vertical-align: middle;\n",
       "    }\n",
       "\n",
       "    .dataframe tbody tr th {\n",
       "        vertical-align: top;\n",
       "    }\n",
       "\n",
       "    .dataframe thead th {\n",
       "        text-align: right;\n",
       "    }\n",
       "</style>\n",
       "<table border=\"1\" class=\"dataframe\">\n",
       "  <thead>\n",
       "    <tr style=\"text-align: right;\">\n",
       "      <th></th>\n",
       "      <th>latitude</th>\n",
       "      <th>longitude</th>\n",
       "      <th>price</th>\n",
       "      <th>minimum_nights</th>\n",
       "      <th>number_of_reviews</th>\n",
       "      <th>reviews_per_month</th>\n",
       "      <th>calculated_host_listings_count</th>\n",
       "      <th>availability_365</th>\n",
       "    </tr>\n",
       "  </thead>\n",
       "  <tbody>\n",
       "    <tr>\n",
       "      <th>count</th>\n",
       "      <td>48895.00</td>\n",
       "      <td>48895.00</td>\n",
       "      <td>48895.00</td>\n",
       "      <td>48895.00</td>\n",
       "      <td>48895.00</td>\n",
       "      <td>48895.00</td>\n",
       "      <td>48895.00</td>\n",
       "      <td>48895.00</td>\n",
       "    </tr>\n",
       "    <tr>\n",
       "      <th>mean</th>\n",
       "      <td>40.73</td>\n",
       "      <td>-73.95</td>\n",
       "      <td>152.72</td>\n",
       "      <td>7.03</td>\n",
       "      <td>23.27</td>\n",
       "      <td>1.09</td>\n",
       "      <td>7.14</td>\n",
       "      <td>112.78</td>\n",
       "    </tr>\n",
       "    <tr>\n",
       "      <th>std</th>\n",
       "      <td>0.05</td>\n",
       "      <td>0.05</td>\n",
       "      <td>240.15</td>\n",
       "      <td>20.51</td>\n",
       "      <td>44.55</td>\n",
       "      <td>1.60</td>\n",
       "      <td>32.95</td>\n",
       "      <td>131.62</td>\n",
       "    </tr>\n",
       "    <tr>\n",
       "      <th>min</th>\n",
       "      <td>40.50</td>\n",
       "      <td>-74.24</td>\n",
       "      <td>0.00</td>\n",
       "      <td>1.00</td>\n",
       "      <td>0.00</td>\n",
       "      <td>0.00</td>\n",
       "      <td>1.00</td>\n",
       "      <td>0.00</td>\n",
       "    </tr>\n",
       "    <tr>\n",
       "      <th>25%</th>\n",
       "      <td>40.69</td>\n",
       "      <td>-73.98</td>\n",
       "      <td>69.00</td>\n",
       "      <td>1.00</td>\n",
       "      <td>1.00</td>\n",
       "      <td>0.04</td>\n",
       "      <td>1.00</td>\n",
       "      <td>0.00</td>\n",
       "    </tr>\n",
       "    <tr>\n",
       "      <th>50%</th>\n",
       "      <td>40.72</td>\n",
       "      <td>-73.96</td>\n",
       "      <td>106.00</td>\n",
       "      <td>3.00</td>\n",
       "      <td>5.00</td>\n",
       "      <td>0.37</td>\n",
       "      <td>1.00</td>\n",
       "      <td>45.00</td>\n",
       "    </tr>\n",
       "    <tr>\n",
       "      <th>75%</th>\n",
       "      <td>40.76</td>\n",
       "      <td>-73.94</td>\n",
       "      <td>175.00</td>\n",
       "      <td>5.00</td>\n",
       "      <td>24.00</td>\n",
       "      <td>1.58</td>\n",
       "      <td>2.00</td>\n",
       "      <td>227.00</td>\n",
       "    </tr>\n",
       "    <tr>\n",
       "      <th>max</th>\n",
       "      <td>40.91</td>\n",
       "      <td>-73.71</td>\n",
       "      <td>10000.00</td>\n",
       "      <td>1250.00</td>\n",
       "      <td>629.00</td>\n",
       "      <td>58.50</td>\n",
       "      <td>327.00</td>\n",
       "      <td>365.00</td>\n",
       "    </tr>\n",
       "  </tbody>\n",
       "</table>\n",
       "</div>"
      ],
      "text/plain": [
       "       latitude  longitude     price  minimum_nights  number_of_reviews  \\\n",
       "count  48895.00   48895.00  48895.00        48895.00           48895.00   \n",
       "mean      40.73     -73.95    152.72            7.03              23.27   \n",
       "std        0.05       0.05    240.15           20.51              44.55   \n",
       "min       40.50     -74.24      0.00            1.00               0.00   \n",
       "25%       40.69     -73.98     69.00            1.00               1.00   \n",
       "50%       40.72     -73.96    106.00            3.00               5.00   \n",
       "75%       40.76     -73.94    175.00            5.00              24.00   \n",
       "max       40.91     -73.71  10000.00         1250.00             629.00   \n",
       "\n",
       "       reviews_per_month  calculated_host_listings_count  availability_365  \n",
       "count           48895.00                        48895.00          48895.00  \n",
       "mean                1.09                            7.14            112.78  \n",
       "std                 1.60                           32.95            131.62  \n",
       "min                 0.00                            1.00              0.00  \n",
       "25%                 0.04                            1.00              0.00  \n",
       "50%                 0.37                            1.00             45.00  \n",
       "75%                 1.58                            2.00            227.00  \n",
       "max                58.50                          327.00            365.00  "
      ]
     },
     "execution_count": 315,
     "metadata": {},
     "output_type": "execute_result"
    }
   ],
   "source": [
    "des = df.describe()\n",
    "#des.drop(['id, host_id'], axis = 1)\n",
    "#des = des.drop(['id', 'host_id'], axis = 1)\n",
    "des = des.round(2)\n",
    "des"
   ]
  },
  {
   "cell_type": "code",
   "execution_count": 166,
   "id": "laden-graduation",
   "metadata": {},
   "outputs": [
    {
     "data": {
      "text/plain": [
       "<AxesSubplot:xlabel='price', ylabel='minimum_nights'>"
      ]
     },
     "execution_count": 166,
     "metadata": {},
     "output_type": "execute_result"
    },
    {
     "data": {
      "image/png": "[encoded data removed]",
      "text/plain": [
       "<Figure size 432x288 with 1 Axes>"
      ]
     },
     "metadata": {
      "needs_background": "light"
     },
     "output_type": "display_data"
    }
   ],
   "source": [
    "sns.scatterplot(data=df, x=\"price\", y=\"minimum_nights\", alpha = 0.6)"
   ]
  },
  {
   "cell_type": "code",
   "execution_count": 167,
   "id": "committed-fabric",
   "metadata": {},
   "outputs": [],
   "source": [
    "df['price_log'] = np.log(df.price+1)"
   ]
  },
  {
   "cell_type": "code",
   "execution_count": 168,
   "id": "greater-likelihood",
   "metadata": {},
   "outputs": [
    {
     "data": {
      "text/plain": [
       "<AxesSubplot:xlabel='price_log', ylabel='minimum_nights'>"
      ]
     },
     "execution_count": 168,
     "metadata": {},
     "output_type": "execute_result"
    },
    {
     "data": {
      "image/png": "[encoded data removed]",
      "text/plain": [
       "<Figure size 432x288 with 1 Axes>"
      ]
     },
     "metadata": {
      "needs_background": "light"
     },
     "output_type": "display_data"
    }
   ],
   "source": [
    "sns.scatterplot(data=df, x=\"price_log\", y=\"minimum_nights\", alpha = 0.6, )"
   ]
  },
  {
   "cell_type": "code",
   "execution_count": 169,
   "id": "greater-universe",
   "metadata": {},
   "outputs": [
    {
     "name": "stderr",
     "output_type": "stream",
     "text": [
      "C:\\Users\\admin\\.conda\\envs\\mldl\\lib\\site-packages\\seaborn\\distributions.py:2557: FutureWarning: `distplot` is a deprecated function and will be removed in a future version. Please adapt your code to use either `displot` (a figure-level function with similar flexibility) or `histplot` (an axes-level function for histograms).\n",
      "  warnings.warn(msg, FutureWarning)\n"
     ]
    },
    {
     "data": {
      "text/plain": [
       "Text(0.5, 1.0, 'Log-Price Distribution Plot')"
      ]
     },
     "execution_count": 169,
     "metadata": {},
     "output_type": "execute_result"
    },
    {
     "data": {
      "image/png": "[encoded data removed]",
      "text/plain": [
       "<Figure size 864x720 with 1 Axes>"
      ]
     },
     "metadata": {
      "needs_background": "light"
     },
     "output_type": "display_data"
    }
   ],
   "source": [
    "plt.figure(figsize=(12,10))\n",
    "sns.distplot(df['price_log'], fit=norm)\n",
    "plt.title(\"Log-Price Distribution Plot\",size=15, weight='bold')"
   ]
  },
  {
   "cell_type": "code",
   "execution_count": 170,
   "id": "after-telling",
   "metadata": {},
   "outputs": [],
   "source": [
    "df.drop(['price'], axis=1, inplace=True)"
   ]
  },
  {
   "cell_type": "code",
   "execution_count": 171,
   "id": "rocky-pittsburgh",
   "metadata": {},
   "outputs": [
    {
     "data": {
      "text/html": [
       "<div>\n",
       "<style scoped>\n",
       "    .dataframe tbody tr th:only-of-type {\n",
       "        vertical-align: middle;\n",
       "    }\n",
       "\n",
       "    .dataframe tbody tr th {\n",
       "        vertical-align: top;\n",
       "    }\n",
       "\n",
       "    .dataframe thead th {\n",
       "        text-align: right;\n",
       "    }\n",
       "</style>\n",
       "<table border=\"1\" class=\"dataframe\">\n",
       "  <thead>\n",
       "    <tr style=\"text-align: right;\">\n",
       "      <th></th>\n",
       "      <th>neighbourhood_group</th>\n",
       "      <th>neighbourhood</th>\n",
       "      <th>latitude</th>\n",
       "      <th>longitude</th>\n",
       "      <th>room_type</th>\n",
       "      <th>minimum_nights</th>\n",
       "      <th>number_of_reviews</th>\n",
       "      <th>reviews_per_month</th>\n",
       "      <th>calculated_host_listings_count</th>\n",
       "      <th>availability_365</th>\n",
       "      <th>price_log</th>\n",
       "    </tr>\n",
       "    <tr>\n",
       "      <th>name</th>\n",
       "      <th></th>\n",
       "      <th></th>\n",
       "      <th></th>\n",
       "      <th></th>\n",
       "      <th></th>\n",
       "      <th></th>\n",
       "      <th></th>\n",
       "      <th></th>\n",
       "      <th></th>\n",
       "      <th></th>\n",
       "      <th></th>\n",
       "    </tr>\n",
       "  </thead>\n",
       "  <tbody>\n",
       "    <tr>\n",
       "      <th>Clean &amp; quiet apt home by the park</th>\n",
       "      <td>Brooklyn</td>\n",
       "      <td>Kensington</td>\n",
       "      <td>40.64749</td>\n",
       "      <td>-73.97237</td>\n",
       "      <td>Private room</td>\n",
       "      <td>1</td>\n",
       "      <td>9</td>\n",
       "      <td>0.21</td>\n",
       "      <td>6</td>\n",
       "      <td>365</td>\n",
       "      <td>5.010635</td>\n",
       "    </tr>\n",
       "    <tr>\n",
       "      <th>Skylit Midtown Castle</th>\n",
       "      <td>Manhattan</td>\n",
       "      <td>Midtown</td>\n",
       "      <td>40.75362</td>\n",
       "      <td>-73.98377</td>\n",
       "      <td>Entire home/apt</td>\n",
       "      <td>1</td>\n",
       "      <td>45</td>\n",
       "      <td>0.38</td>\n",
       "      <td>2</td>\n",
       "      <td>355</td>\n",
       "      <td>5.420535</td>\n",
       "    </tr>\n",
       "    <tr>\n",
       "      <th>THE VILLAGE OF HARLEM....NEW YORK !</th>\n",
       "      <td>Manhattan</td>\n",
       "      <td>Harlem</td>\n",
       "      <td>40.80902</td>\n",
       "      <td>-73.94190</td>\n",
       "      <td>Private room</td>\n",
       "      <td>3</td>\n",
       "      <td>0</td>\n",
       "      <td>0.00</td>\n",
       "      <td>1</td>\n",
       "      <td>365</td>\n",
       "      <td>5.017280</td>\n",
       "    </tr>\n",
       "    <tr>\n",
       "      <th>Cozy Entire Floor of Brownstone</th>\n",
       "      <td>Brooklyn</td>\n",
       "      <td>Clinton Hill</td>\n",
       "      <td>40.68514</td>\n",
       "      <td>-73.95976</td>\n",
       "      <td>Entire home/apt</td>\n",
       "      <td>1</td>\n",
       "      <td>270</td>\n",
       "      <td>4.64</td>\n",
       "      <td>1</td>\n",
       "      <td>194</td>\n",
       "      <td>4.499810</td>\n",
       "    </tr>\n",
       "    <tr>\n",
       "      <th>Entire Apt: Spacious Studio/Loft by central park</th>\n",
       "      <td>Manhattan</td>\n",
       "      <td>East Harlem</td>\n",
       "      <td>40.79851</td>\n",
       "      <td>-73.94399</td>\n",
       "      <td>Entire home/apt</td>\n",
       "      <td>10</td>\n",
       "      <td>9</td>\n",
       "      <td>0.10</td>\n",
       "      <td>1</td>\n",
       "      <td>0</td>\n",
       "      <td>4.394449</td>\n",
       "    </tr>\n",
       "  </tbody>\n",
       "</table>\n",
       "</div>"
      ],
      "text/plain": [
       "                                                 neighbourhood_group  \\\n",
       "name                                                                   \n",
       "Clean & quiet apt home by the park                          Brooklyn   \n",
       "Skylit Midtown Castle                                      Manhattan   \n",
       "THE VILLAGE OF HARLEM....NEW YORK !                        Manhattan   \n",
       "Cozy Entire Floor of Brownstone                             Brooklyn   \n",
       "Entire Apt: Spacious Studio/Loft by central park           Manhattan   \n",
       "\n",
       "                                                 neighbourhood  latitude  \\\n",
       "name                                                                       \n",
       "Clean & quiet apt home by the park                  Kensington  40.64749   \n",
       "Skylit Midtown Castle                                  Midtown  40.75362   \n",
       "THE VILLAGE OF HARLEM....NEW YORK !                     Harlem  40.80902   \n",
       "Cozy Entire Floor of Brownstone                   Clinton Hill  40.68514   \n",
       "Entire Apt: Spacious Studio/Loft by central park   East Harlem  40.79851   \n",
       "\n",
       "                                                  longitude        room_type  \\\n",
       "name                                                                           \n",
       "Clean & quiet apt home by the park                -73.97237     Private room   \n",
       "Skylit Midtown Castle                             -73.98377  Entire home/apt   \n",
       "THE VILLAGE OF HARLEM....NEW YORK !               -73.94190     Private room   \n",
       "Cozy Entire Floor of Brownstone                   -73.95976  Entire home/apt   \n",
       "Entire Apt: Spacious Studio/Loft by central park  -73.94399  Entire home/apt   \n",
       "\n",
       "                                                  minimum_nights  \\\n",
       "name                                                               \n",
       "Clean & quiet apt home by the park                             1   \n",
       "Skylit Midtown Castle                                          1   \n",
       "THE VILLAGE OF HARLEM....NEW YORK !                            3   \n",
       "Cozy Entire Floor of Brownstone                                1   \n",
       "Entire Apt: Spacious Studio/Loft by central park              10   \n",
       "\n",
       "                                                  number_of_reviews  \\\n",
       "name                                                                  \n",
       "Clean & quiet apt home by the park                                9   \n",
       "Skylit Midtown Castle                                            45   \n",
       "THE VILLAGE OF HARLEM....NEW YORK !                               0   \n",
       "Cozy Entire Floor of Brownstone                                 270   \n",
       "Entire Apt: Spacious Studio/Loft by central park                  9   \n",
       "\n",
       "                                                  reviews_per_month  \\\n",
       "name                                                                  \n",
       "Clean & quiet apt home by the park                             0.21   \n",
       "Skylit Midtown Castle                                          0.38   \n",
       "THE VILLAGE OF HARLEM....NEW YORK !                            0.00   \n",
       "Cozy Entire Floor of Brownstone                                4.64   \n",
       "Entire Apt: Spacious Studio/Loft by central park               0.10   \n",
       "\n",
       "                                                  calculated_host_listings_count  \\\n",
       "name                                                                               \n",
       "Clean & quiet apt home by the park                                             6   \n",
       "Skylit Midtown Castle                                                          2   \n",
       "THE VILLAGE OF HARLEM....NEW YORK !                                            1   \n",
       "Cozy Entire Floor of Brownstone                                                1   \n",
       "Entire Apt: Spacious Studio/Loft by central park                               1   \n",
       "\n",
       "                                                  availability_365  price_log  \n",
       "name                                                                           \n",
       "Clean & quiet apt home by the park                             365   5.010635  \n",
       "Skylit Midtown Castle                                          355   5.420535  \n",
       "THE VILLAGE OF HARLEM....NEW YORK !                            365   5.017280  \n",
       "Cozy Entire Floor of Brownstone                                194   4.499810  \n",
       "Entire Apt: Spacious Studio/Loft by central park                 0   4.394449  "
      ]
     },
     "execution_count": 171,
     "metadata": {},
     "output_type": "execute_result"
    }
   ],
   "source": [
    "df.head()"
   ]
  },
  {
   "cell_type": "code",
   "execution_count": 172,
   "id": "mineral-documentary",
   "metadata": {},
   "outputs": [],
   "source": [
    "df_encode = pd.get_dummies(df, columns = ['neighbourhood_group','room_type'])"
   ]
  },
  {
   "cell_type": "code",
   "execution_count": 173,
   "id": "dominant-singer",
   "metadata": {},
   "outputs": [
    {
     "data": {
      "text/html": [
       "<div>\n",
       "<style scoped>\n",
       "    .dataframe tbody tr th:only-of-type {\n",
       "        vertical-align: middle;\n",
       "    }\n",
       "\n",
       "    .dataframe tbody tr th {\n",
       "        vertical-align: top;\n",
       "    }\n",
       "\n",
       "    .dataframe thead th {\n",
       "        text-align: right;\n",
       "    }\n",
       "</style>\n",
       "<table border=\"1\" class=\"dataframe\">\n",
       "  <thead>\n",
       "    <tr style=\"text-align: right;\">\n",
       "      <th></th>\n",
       "      <th>neighbourhood</th>\n",
       "      <th>latitude</th>\n",
       "      <th>longitude</th>\n",
       "      <th>minimum_nights</th>\n",
       "      <th>number_of_reviews</th>\n",
       "      <th>reviews_per_month</th>\n",
       "      <th>calculated_host_listings_count</th>\n",
       "      <th>availability_365</th>\n",
       "      <th>price_log</th>\n",
       "      <th>neighbourhood_group_Bronx</th>\n",
       "      <th>neighbourhood_group_Brooklyn</th>\n",
       "      <th>neighbourhood_group_Manhattan</th>\n",
       "      <th>neighbourhood_group_Queens</th>\n",
       "      <th>neighbourhood_group_Staten Island</th>\n",
       "      <th>room_type_Entire home/apt</th>\n",
       "      <th>room_type_Private room</th>\n",
       "      <th>room_type_Shared room</th>\n",
       "    </tr>\n",
       "    <tr>\n",
       "      <th>name</th>\n",
       "      <th></th>\n",
       "      <th></th>\n",
       "      <th></th>\n",
       "      <th></th>\n",
       "      <th></th>\n",
       "      <th></th>\n",
       "      <th></th>\n",
       "      <th></th>\n",
       "      <th></th>\n",
       "      <th></th>\n",
       "      <th></th>\n",
       "      <th></th>\n",
       "      <th></th>\n",
       "      <th></th>\n",
       "      <th></th>\n",
       "      <th></th>\n",
       "      <th></th>\n",
       "    </tr>\n",
       "  </thead>\n",
       "  <tbody>\n",
       "    <tr>\n",
       "      <th>Clean &amp; quiet apt home by the park</th>\n",
       "      <td>Kensington</td>\n",
       "      <td>40.64749</td>\n",
       "      <td>-73.97237</td>\n",
       "      <td>1</td>\n",
       "      <td>9</td>\n",
       "      <td>0.21</td>\n",
       "      <td>6</td>\n",
       "      <td>365</td>\n",
       "      <td>5.010635</td>\n",
       "      <td>0</td>\n",
       "      <td>1</td>\n",
       "      <td>0</td>\n",
       "      <td>0</td>\n",
       "      <td>0</td>\n",
       "      <td>0</td>\n",
       "      <td>1</td>\n",
       "      <td>0</td>\n",
       "    </tr>\n",
       "    <tr>\n",
       "      <th>Skylit Midtown Castle</th>\n",
       "      <td>Midtown</td>\n",
       "      <td>40.75362</td>\n",
       "      <td>-73.98377</td>\n",
       "      <td>1</td>\n",
       "      <td>45</td>\n",
       "      <td>0.38</td>\n",
       "      <td>2</td>\n",
       "      <td>355</td>\n",
       "      <td>5.420535</td>\n",
       "      <td>0</td>\n",
       "      <td>0</td>\n",
       "      <td>1</td>\n",
       "      <td>0</td>\n",
       "      <td>0</td>\n",
       "      <td>1</td>\n",
       "      <td>0</td>\n",
       "      <td>0</td>\n",
       "    </tr>\n",
       "    <tr>\n",
       "      <th>THE VILLAGE OF HARLEM....NEW YORK !</th>\n",
       "      <td>Harlem</td>\n",
       "      <td>40.80902</td>\n",
       "      <td>-73.94190</td>\n",
       "      <td>3</td>\n",
       "      <td>0</td>\n",
       "      <td>0.00</td>\n",
       "      <td>1</td>\n",
       "      <td>365</td>\n",
       "      <td>5.017280</td>\n",
       "      <td>0</td>\n",
       "      <td>0</td>\n",
       "      <td>1</td>\n",
       "      <td>0</td>\n",
       "      <td>0</td>\n",
       "      <td>0</td>\n",
       "      <td>1</td>\n",
       "      <td>0</td>\n",
       "    </tr>\n",
       "    <tr>\n",
       "      <th>Cozy Entire Floor of Brownstone</th>\n",
       "      <td>Clinton Hill</td>\n",
       "      <td>40.68514</td>\n",
       "      <td>-73.95976</td>\n",
       "      <td>1</td>\n",
       "      <td>270</td>\n",
       "      <td>4.64</td>\n",
       "      <td>1</td>\n",
       "      <td>194</td>\n",
       "      <td>4.499810</td>\n",
       "      <td>0</td>\n",
       "      <td>1</td>\n",
       "      <td>0</td>\n",
       "      <td>0</td>\n",
       "      <td>0</td>\n",
       "      <td>1</td>\n",
       "      <td>0</td>\n",
       "      <td>0</td>\n",
       "    </tr>\n",
       "    <tr>\n",
       "      <th>Entire Apt: Spacious Studio/Loft by central park</th>\n",
       "      <td>East Harlem</td>\n",
       "      <td>40.79851</td>\n",
       "      <td>-73.94399</td>\n",
       "      <td>10</td>\n",
       "      <td>9</td>\n",
       "      <td>0.10</td>\n",
       "      <td>1</td>\n",
       "      <td>0</td>\n",
       "      <td>4.394449</td>\n",
       "      <td>0</td>\n",
       "      <td>0</td>\n",
       "      <td>1</td>\n",
       "      <td>0</td>\n",
       "      <td>0</td>\n",
       "      <td>1</td>\n",
       "      <td>0</td>\n",
       "      <td>0</td>\n",
       "    </tr>\n",
       "  </tbody>\n",
       "</table>\n",
       "</div>"
      ],
      "text/plain": [
       "                                                 neighbourhood  latitude  \\\n",
       "name                                                                       \n",
       "Clean & quiet apt home by the park                  Kensington  40.64749   \n",
       "Skylit Midtown Castle                                  Midtown  40.75362   \n",
       "THE VILLAGE OF HARLEM....NEW YORK !                     Harlem  40.80902   \n",
       "Cozy Entire Floor of Brownstone                   Clinton Hill  40.68514   \n",
       "Entire Apt: Spacious Studio/Loft by central park   East Harlem  40.79851   \n",
       "\n",
       "                                                  longitude  minimum_nights  \\\n",
       "name                                                                          \n",
       "Clean & quiet apt home by the park                -73.97237               1   \n",
       "Skylit Midtown Castle                             -73.98377               1   \n",
       "THE VILLAGE OF HARLEM....NEW YORK !               -73.94190               3   \n",
       "Cozy Entire Floor of Brownstone                   -73.95976               1   \n",
       "Entire Apt: Spacious Studio/Loft by central park  -73.94399              10   \n",
       "\n",
       "                                                  number_of_reviews  \\\n",
       "name                                                                  \n",
       "Clean & quiet apt home by the park                                9   \n",
       "Skylit Midtown Castle                                            45   \n",
       "THE VILLAGE OF HARLEM....NEW YORK !                               0   \n",
       "Cozy Entire Floor of Brownstone                                 270   \n",
       "Entire Apt: Spacious Studio/Loft by central park                  9   \n",
       "\n",
       "                                                  reviews_per_month  \\\n",
       "name                                                                  \n",
       "Clean & quiet apt home by the park                             0.21   \n",
       "Skylit Midtown Castle                                          0.38   \n",
       "THE VILLAGE OF HARLEM....NEW YORK !                            0.00   \n",
       "Cozy Entire Floor of Brownstone                                4.64   \n",
       "Entire Apt: Spacious Studio/Loft by central park               0.10   \n",
       "\n",
       "                                                  calculated_host_listings_count  \\\n",
       "name                                                                               \n",
       "Clean & quiet apt home by the park                                             6   \n",
       "Skylit Midtown Castle                                                          2   \n",
       "THE VILLAGE OF HARLEM....NEW YORK !                                            1   \n",
       "Cozy Entire Floor of Brownstone                                                1   \n",
       "Entire Apt: Spacious Studio/Loft by central park                               1   \n",
       "\n",
       "                                                  availability_365  price_log  \\\n",
       "name                                                                            \n",
       "Clean & quiet apt home by the park                             365   5.010635   \n",
       "Skylit Midtown Castle                                          355   5.420535   \n",
       "THE VILLAGE OF HARLEM....NEW YORK !                            365   5.017280   \n",
       "Cozy Entire Floor of Brownstone                                194   4.499810   \n",
       "Entire Apt: Spacious Studio/Loft by central park                 0   4.394449   \n",
       "\n",
       "                                                  neighbourhood_group_Bronx  \\\n",
       "name                                                                          \n",
       "Clean & quiet apt home by the park                                        0   \n",
       "Skylit Midtown Castle                                                     0   \n",
       "THE VILLAGE OF HARLEM....NEW YORK !                                       0   \n",
       "Cozy Entire Floor of Brownstone                                           0   \n",
       "Entire Apt: Spacious Studio/Loft by central park                          0   \n",
       "\n",
       "                                                  neighbourhood_group_Brooklyn  \\\n",
       "name                                                                             \n",
       "Clean & quiet apt home by the park                                           1   \n",
       "Skylit Midtown Castle                                                        0   \n",
       "THE VILLAGE OF HARLEM....NEW YORK !                                          0   \n",
       "Cozy Entire Floor of Brownstone                                              1   \n",
       "Entire Apt: Spacious Studio/Loft by central park                             0   \n",
       "\n",
       "                                                  neighbourhood_group_Manhattan  \\\n",
       "name                                                                              \n",
       "Clean & quiet apt home by the park                                            0   \n",
       "Skylit Midtown Castle                                                         1   \n",
       "THE VILLAGE OF HARLEM....NEW YORK !                                           1   \n",
       "Cozy Entire Floor of Brownstone                                               0   \n",
       "Entire Apt: Spacious Studio/Loft by central park                              1   \n",
       "\n",
       "                                                  neighbourhood_group_Queens  \\\n",
       "name                                                                           \n",
       "Clean & quiet apt home by the park                                         0   \n",
       "Skylit Midtown Castle                                                      0   \n",
       "THE VILLAGE OF HARLEM....NEW YORK !                                        0   \n",
       "Cozy Entire Floor of Brownstone                                            0   \n",
       "Entire Apt: Spacious Studio/Loft by central park                           0   \n",
       "\n",
       "                                                  neighbourhood_group_Staten Island  \\\n",
       "name                                                                                  \n",
       "Clean & quiet apt home by the park                                                0   \n",
       "Skylit Midtown Castle                                                             0   \n",
       "THE VILLAGE OF HARLEM....NEW YORK !                                               0   \n",
       "Cozy Entire Floor of Brownstone                                                   0   \n",
       "Entire Apt: Spacious Studio/Loft by central park                                  0   \n",
       "\n",
       "                                                  room_type_Entire home/apt  \\\n",
       "name                                                                          \n",
       "Clean & quiet apt home by the park                                        0   \n",
       "Skylit Midtown Castle                                                     1   \n",
       "THE VILLAGE OF HARLEM....NEW YORK !                                       0   \n",
       "Cozy Entire Floor of Brownstone                                           1   \n",
       "Entire Apt: Spacious Studio/Loft by central park                          1   \n",
       "\n",
       "                                                  room_type_Private room  \\\n",
       "name                                                                       \n",
       "Clean & quiet apt home by the park                                     1   \n",
       "Skylit Midtown Castle                                                  0   \n",
       "THE VILLAGE OF HARLEM....NEW YORK !                                    1   \n",
       "Cozy Entire Floor of Brownstone                                        0   \n",
       "Entire Apt: Spacious Studio/Loft by central park                       0   \n",
       "\n",
       "                                                  room_type_Shared room  \n",
       "name                                                                     \n",
       "Clean & quiet apt home by the park                                    0  \n",
       "Skylit Midtown Castle                                                 0  \n",
       "THE VILLAGE OF HARLEM....NEW YORK !                                   0  \n",
       "Cozy Entire Floor of Brownstone                                       0  \n",
       "Entire Apt: Spacious Studio/Loft by central park                      0  "
      ]
     },
     "execution_count": 173,
     "metadata": {},
     "output_type": "execute_result"
    }
   ],
   "source": [
    "df_encode.head()"
   ]
  },
  {
   "cell_type": "code",
   "execution_count": 195,
   "id": "solved-update",
   "metadata": {},
   "outputs": [],
   "source": [
    "df_final = df_encode.drop(['neighbourhood'],axis = 1)"
   ]
  },
  {
   "cell_type": "code",
   "execution_count": 191,
   "id": "preceding-skiing",
   "metadata": {},
   "outputs": [
    {
     "data": {
      "text/plain": [
       "<AxesSubplot:>"
      ]
     },
     "execution_count": 191,
     "metadata": {},
     "output_type": "execute_result"
    },
    {
     "data": {
      "image/png": "[encoded data removed]",
      "text/plain": [
       "<Figure size 1080x576 with 2 Axes>"
      ]
     },
     "metadata": {
      "needs_background": "light"
     },
     "output_type": "display_data"
    }
   ],
   "source": [
    "corr = df_encode.corr(method='kendall')\n",
    "plt.figure(figsize=(15,8))\n",
    "sn.heatmap(corr, annot=True)\n",
    "#df.columns"
   ]
  },
  {
   "cell_type": "code",
   "execution_count": 192,
   "id": "legitimate-longer",
   "metadata": {},
   "outputs": [
    {
     "data": {
      "text/plain": [
       "latitude                             0.079339\n",
       "longitude                           -0.325043\n",
       "minimum_nights                       0.033185\n",
       "number_of_reviews                   -0.042801\n",
       "reviews_per_month                   -0.060625\n",
       "calculated_host_listings_count       0.132274\n",
       "availability_365                     0.098558\n",
       "price_log                            1.000000\n",
       "neighbourhood_group_Bronx           -0.104333\n",
       "neighbourhood_group_Brooklyn        -0.192346\n",
       "neighbourhood_group_Manhattan        0.347058\n",
       "neighbourhood_group_Queens          -0.182790\n",
       "neighbourhood_group_Staten Island   -0.044101\n",
       "room_type_Entire home/apt            0.613843\n",
       "room_type_Private room              -0.563049\n",
       "room_type_Shared room               -0.172293\n",
       "Name: price_log, dtype: float64"
      ]
     },
     "execution_count": 192,
     "metadata": {},
     "output_type": "execute_result"
    }
   ],
   "source": [
    "df_encode[df_encode.columns[1:]].corr()['price_log'][:]"
   ]
  },
  {
   "cell_type": "code",
   "execution_count": 290,
   "id": "fabulous-native",
   "metadata": {},
   "outputs": [],
   "source": [
    "X = df_final.drop(['price_log'],axis =1)\n",
    "y = df_encode['price_log']\n",
    "#X.head()"
   ]
  },
  {
   "cell_type": "code",
   "execution_count": 291,
   "id": "discrete-population",
   "metadata": {},
   "outputs": [],
   "source": [
    "scaler = StandardScaler()\n",
    "X = scaler.fit_transform(X)"
   ]
  },
  {
   "cell_type": "code",
   "execution_count": 292,
   "id": "fifty-finish",
   "metadata": {},
   "outputs": [],
   "source": [
    "X_train, X_test, y_train, y_test = train_test_split(X,y, test_size = 0.2,random_state=42)"
   ]
  },
  {
   "cell_type": "code",
   "execution_count": 227,
   "id": "informational-latvia",
   "metadata": {},
   "outputs": [],
   "source": [
    "rfr = RandomForestRegressor(n_estimators=250)"
   ]
  },
  {
   "cell_type": "code",
   "execution_count": 228,
   "id": "likely-contributor",
   "metadata": {},
   "outputs": [
    {
     "data": {
      "text/plain": [
       "RandomForestRegressor(n_estimators=250)"
      ]
     },
     "execution_count": 228,
     "metadata": {},
     "output_type": "execute_result"
    }
   ],
   "source": [
    "rfr.fit(X_train,y_train)"
   ]
  },
  {
   "cell_type": "code",
   "execution_count": 229,
   "id": "planned-luther",
   "metadata": {},
   "outputs": [
    {
     "data": {
      "text/plain": [
       "0.42999005782806615"
      ]
     },
     "execution_count": 229,
     "metadata": {},
     "output_type": "execute_result"
    }
   ],
   "source": [
    "Rfr_test_MSE = mean_squared_error(y_test,rfc.predict(X_test), squared = False)\n",
    "Rfr_test_MSE"
   ]
  },
  {
   "cell_type": "code",
   "execution_count": 250,
   "id": "missing-cosmetic",
   "metadata": {},
   "outputs": [],
   "source": [
    "param_grid = { \n",
    "    'n_estimators': [100,150,200, 250,300,500],\n",
    "    'max_features': np.arange(1,15),\n",
    "    'max_depth' : np.arange(1,20),\n",
    "    'random_state':[0]\n",
    "}"
   ]
  },
  {
   "cell_type": "code",
   "execution_count": 251,
   "id": "animal-stick",
   "metadata": {},
   "outputs": [],
   "source": [
    "rfr_cv = RandomizedSearchCV(rfr, param_distributions = param_grid, cv = 5, scoring = 'neg_mean_squared_error',verbose = 3, n_jobs = 1)"
   ]
  },
  {
   "cell_type": "code",
   "execution_count": 252,
   "id": "statutory-catholic",
   "metadata": {},
   "outputs": [
    {
     "name": "stdout",
     "output_type": "stream",
     "text": [
      "Fitting 5 folds for each of 10 candidates, totalling 50 fits\n",
      "[CV 1/5] END max_depth=8, max_features=10, n_estimators=250, random_state=0; total time=  11.0s\n",
      "[CV 2/5] END max_depth=8, max_features=10, n_estimators=250, random_state=0; total time=  11.1s\n",
      "[CV 3/5] END max_depth=8, max_features=10, n_estimators=250, random_state=0; total time=  11.3s\n",
      "[CV 4/5] END max_depth=8, max_features=10, n_estimators=250, random_state=0; total time=  11.2s\n",
      "[CV 5/5] END max_depth=8, max_features=10, n_estimators=250, random_state=0; total time=  10.9s\n",
      "[CV 1/5] END max_depth=8, max_features=2, n_estimators=500, random_state=0; total time=   6.6s\n",
      "[CV 2/5] END max_depth=8, max_features=2, n_estimators=500, random_state=0; total time=   6.5s\n",
      "[CV 3/5] END max_depth=8, max_features=2, n_estimators=500, random_state=0; total time=   6.6s\n",
      "[CV 4/5] END max_depth=8, max_features=2, n_estimators=500, random_state=0; total time=   6.5s\n",
      "[CV 5/5] END max_depth=8, max_features=2, n_estimators=500, random_state=0; total time=   6.6s\n",
      "[CV 1/5] END max_depth=12, max_features=8, n_estimators=500, random_state=0; total time=  25.8s\n",
      "[CV 2/5] END max_depth=12, max_features=8, n_estimators=500, random_state=0; total time=  25.6s\n",
      "[CV 3/5] END max_depth=12, max_features=8, n_estimators=500, random_state=0; total time=  25.8s\n",
      "[CV 4/5] END max_depth=12, max_features=8, n_estimators=500, random_state=0; total time=  25.6s\n",
      "[CV 5/5] END max_depth=12, max_features=8, n_estimators=500, random_state=0; total time=  25.7s\n",
      "[CV 1/5] END max_depth=19, max_features=13, n_estimators=100, random_state=0; total time=  11.3s\n",
      "[CV 2/5] END max_depth=19, max_features=13, n_estimators=100, random_state=0; total time=  11.2s\n",
      "[CV 3/5] END max_depth=19, max_features=13, n_estimators=100, random_state=0; total time=  11.3s\n",
      "[CV 4/5] END max_depth=19, max_features=13, n_estimators=100, random_state=0; total time=  11.2s\n",
      "[CV 5/5] END max_depth=19, max_features=13, n_estimators=100, random_state=0; total time=  11.2s\n",
      "[CV 1/5] END max_depth=10, max_features=2, n_estimators=250, random_state=0; total time=   4.0s\n",
      "[CV 2/5] END max_depth=10, max_features=2, n_estimators=250, random_state=0; total time=   3.9s\n",
      "[CV 3/5] END max_depth=10, max_features=2, n_estimators=250, random_state=0; total time=   3.9s\n",
      "[CV 4/5] END max_depth=10, max_features=2, n_estimators=250, random_state=0; total time=   4.0s\n",
      "[CV 5/5] END max_depth=10, max_features=2, n_estimators=250, random_state=0; total time=   4.1s\n",
      "[CV 1/5] END max_depth=7, max_features=1, n_estimators=200, random_state=0; total time=   1.7s\n",
      "[CV 2/5] END max_depth=7, max_features=1, n_estimators=200, random_state=0; total time=   1.7s\n",
      "[CV 3/5] END max_depth=7, max_features=1, n_estimators=200, random_state=0; total time=   1.7s\n",
      "[CV 4/5] END max_depth=7, max_features=1, n_estimators=200, random_state=0; total time=   1.7s\n",
      "[CV 5/5] END max_depth=7, max_features=1, n_estimators=200, random_state=0; total time=   1.7s\n",
      "[CV 1/5] END max_depth=19, max_features=2, n_estimators=100, random_state=0; total time=   3.1s\n",
      "[CV 2/5] END max_depth=19, max_features=2, n_estimators=100, random_state=0; total time=   3.1s\n",
      "[CV 3/5] END max_depth=19, max_features=2, n_estimators=100, random_state=0; total time=   3.1s\n",
      "[CV 4/5] END max_depth=19, max_features=2, n_estimators=100, random_state=0; total time=   3.2s\n",
      "[CV 5/5] END max_depth=19, max_features=2, n_estimators=100, random_state=0; total time=   3.1s\n",
      "[CV 1/5] END max_depth=15, max_features=8, n_estimators=500, random_state=0; total time=  32.3s\n",
      "[CV 2/5] END max_depth=15, max_features=8, n_estimators=500, random_state=0; total time=  31.8s\n",
      "[CV 3/5] END max_depth=15, max_features=8, n_estimators=500, random_state=0; total time=  32.1s\n",
      "[CV 4/5] END max_depth=15, max_features=8, n_estimators=500, random_state=0; total time=  32.7s\n",
      "[CV 5/5] END max_depth=15, max_features=8, n_estimators=500, random_state=0; total time=  31.7s\n",
      "[CV 1/5] END max_depth=15, max_features=3, n_estimators=250, random_state=0; total time=   7.7s\n",
      "[CV 2/5] END max_depth=15, max_features=3, n_estimators=250, random_state=0; total time=   7.4s\n",
      "[CV 3/5] END max_depth=15, max_features=3, n_estimators=250, random_state=0; total time=   7.6s\n",
      "[CV 4/5] END max_depth=15, max_features=3, n_estimators=250, random_state=0; total time=   7.6s\n",
      "[CV 5/5] END max_depth=15, max_features=3, n_estimators=250, random_state=0; total time=   7.7s\n",
      "[CV 1/5] END max_depth=10, max_features=2, n_estimators=150, random_state=0; total time=   2.3s\n",
      "[CV 2/5] END max_depth=10, max_features=2, n_estimators=150, random_state=0; total time=   2.4s\n",
      "[CV 3/5] END max_depth=10, max_features=2, n_estimators=150, random_state=0; total time=   2.3s\n",
      "[CV 4/5] END max_depth=10, max_features=2, n_estimators=150, random_state=0; total time=   2.4s\n",
      "[CV 5/5] END max_depth=10, max_features=2, n_estimators=150, random_state=0; total time=   2.4s\n"
     ]
    },
    {
     "data": {
      "text/plain": [
       "RandomizedSearchCV(cv=5, estimator=RandomForestRegressor(n_estimators=250),\n",
       "                   n_jobs=1,\n",
       "                   param_distributions={'max_depth': array([ 1,  2,  3,  4,  5,  6,  7,  8,  9, 10, 11, 12, 13, 14, 15, 16, 17,\n",
       "       18, 19]),\n",
       "                                        'max_features': array([ 1,  2,  3,  4,  5,  6,  7,  8,  9, 10, 11, 12, 13, 14]),\n",
       "                                        'n_estimators': [100, 150, 200, 250,\n",
       "                                                         300, 500],\n",
       "                                        'random_state': [0]},\n",
       "                   scoring='neg_mean_squared_error', verbose=3)"
      ]
     },
     "execution_count": 252,
     "metadata": {},
     "output_type": "execute_result"
    }
   ],
   "source": [
    "rfr_cv.fit(X_train, y_train)"
   ]
  },
  {
   "cell_type": "code",
   "execution_count": 253,
   "id": "norwegian-macedonia",
   "metadata": {},
   "outputs": [
    {
     "data": {
      "text/plain": [
       "{'random_state': 0, 'n_estimators': 500, 'max_features': 8, 'max_depth': 15}"
      ]
     },
     "execution_count": 253,
     "metadata": {},
     "output_type": "execute_result"
    }
   ],
   "source": [
    "rfr_cv.best_params_"
   ]
  },
  {
   "cell_type": "code",
   "execution_count": 254,
   "id": "gorgeous-diana",
   "metadata": {},
   "outputs": [],
   "source": [
    "rfr_best = RandomForestRegressor(n_estimators=500, max_features = 8, max_depth = 15, random_state =0)"
   ]
  },
  {
   "cell_type": "code",
   "execution_count": 255,
   "id": "engaged-fortune",
   "metadata": {},
   "outputs": [
    {
     "data": {
      "text/plain": [
       "0.4220574846395485"
      ]
     },
     "execution_count": 255,
     "metadata": {},
     "output_type": "execute_result"
    }
   ],
   "source": [
    "rfr_best.fit(X_train, y_train)\n",
    "mean_squared_error(y_test, rfr_best.predict(X_test), squared = False)"
   ]
  },
  {
   "cell_type": "code",
   "execution_count": 265,
   "id": "entire-northwest",
   "metadata": {},
   "outputs": [
    {
     "data": {
      "text/html": [
       "<div>\n",
       "<style scoped>\n",
       "    .dataframe tbody tr th:only-of-type {\n",
       "        vertical-align: middle;\n",
       "    }\n",
       "\n",
       "    .dataframe tbody tr th {\n",
       "        vertical-align: top;\n",
       "    }\n",
       "\n",
       "    .dataframe thead th {\n",
       "        text-align: right;\n",
       "    }\n",
       "</style>\n",
       "<table border=\"1\" class=\"dataframe\">\n",
       "  <thead>\n",
       "    <tr style=\"text-align: right;\">\n",
       "      <th></th>\n",
       "      <th>Features</th>\n",
       "      <th>Feature_importance_Score</th>\n",
       "    </tr>\n",
       "  </thead>\n",
       "  <tbody>\n",
       "    <tr>\n",
       "      <th>0</th>\n",
       "      <td>room_type_Entire home/apt</td>\n",
       "      <td>0.292243</td>\n",
       "    </tr>\n",
       "    <tr>\n",
       "      <th>1</th>\n",
       "      <td>longitude</td>\n",
       "      <td>0.162940</td>\n",
       "    </tr>\n",
       "    <tr>\n",
       "      <th>2</th>\n",
       "      <td>room_type_Private room</td>\n",
       "      <td>0.136081</td>\n",
       "    </tr>\n",
       "    <tr>\n",
       "      <th>3</th>\n",
       "      <td>latitude</td>\n",
       "      <td>0.120255</td>\n",
       "    </tr>\n",
       "    <tr>\n",
       "      <th>4</th>\n",
       "      <td>availability_365</td>\n",
       "      <td>0.073550</td>\n",
       "    </tr>\n",
       "    <tr>\n",
       "      <th>5</th>\n",
       "      <td>minimum_nights</td>\n",
       "      <td>0.049669</td>\n",
       "    </tr>\n",
       "    <tr>\n",
       "      <th>6</th>\n",
       "      <td>reviews_per_month</td>\n",
       "      <td>0.040400</td>\n",
       "    </tr>\n",
       "    <tr>\n",
       "      <th>7</th>\n",
       "      <td>neighbourhood_group_Manhattan</td>\n",
       "      <td>0.037688</td>\n",
       "    </tr>\n",
       "    <tr>\n",
       "      <th>8</th>\n",
       "      <td>number_of_reviews</td>\n",
       "      <td>0.033665</td>\n",
       "    </tr>\n",
       "    <tr>\n",
       "      <th>9</th>\n",
       "      <td>calculated_host_listings_count</td>\n",
       "      <td>0.031423</td>\n",
       "    </tr>\n",
       "    <tr>\n",
       "      <th>10</th>\n",
       "      <td>room_type_Shared room</td>\n",
       "      <td>0.013875</td>\n",
       "    </tr>\n",
       "    <tr>\n",
       "      <th>11</th>\n",
       "      <td>neighbourhood_group_Brooklyn</td>\n",
       "      <td>0.004788</td>\n",
       "    </tr>\n",
       "    <tr>\n",
       "      <th>12</th>\n",
       "      <td>neighbourhood_group_Queens</td>\n",
       "      <td>0.002401</td>\n",
       "    </tr>\n",
       "    <tr>\n",
       "      <th>13</th>\n",
       "      <td>neighbourhood_group_Bronx</td>\n",
       "      <td>0.000719</td>\n",
       "    </tr>\n",
       "    <tr>\n",
       "      <th>14</th>\n",
       "      <td>neighbourhood_group_Staten Island</td>\n",
       "      <td>0.000302</td>\n",
       "    </tr>\n",
       "  </tbody>\n",
       "</table>\n",
       "</div>"
      ],
      "text/plain": [
       "                             Features  Feature_importance_Score\n",
       "0           room_type_Entire home/apt                  0.292243\n",
       "1                           longitude                  0.162940\n",
       "2              room_type_Private room                  0.136081\n",
       "3                            latitude                  0.120255\n",
       "4                    availability_365                  0.073550\n",
       "5                      minimum_nights                  0.049669\n",
       "6                   reviews_per_month                  0.040400\n",
       "7       neighbourhood_group_Manhattan                  0.037688\n",
       "8                   number_of_reviews                  0.033665\n",
       "9      calculated_host_listings_count                  0.031423\n",
       "10              room_type_Shared room                  0.013875\n",
       "11       neighbourhood_group_Brooklyn                  0.004788\n",
       "12         neighbourhood_group_Queens                  0.002401\n",
       "13          neighbourhood_group_Bronx                  0.000719\n",
       "14  neighbourhood_group_Staten Island                  0.000302"
      ]
     },
     "execution_count": 265,
     "metadata": {},
     "output_type": "execute_result"
    }
   ],
   "source": [
    "rfr_features=pd.DataFrame({'Features': df_final.drop(['price_log'],axis =1).columns, 'Feature_importance_Score': rfr_best.feature_importances_}).sort_values(by = ['Feature_importance_Score'],ascending = False,ignore_index  = True)\n",
    "rfr_features"
   ]
  },
  {
   "cell_type": "code",
   "execution_count": 266,
   "id": "christian-combining",
   "metadata": {},
   "outputs": [
    {
     "data": {
      "image/png": "[encoded data removed]",
      "text/plain": [
       "<Figure size 432x288 with 1 Axes>"
      ]
     },
     "metadata": {
      "needs_background": "light"
     },
     "output_type": "display_data"
    }
   ],
   "source": [
    "fig,ax = plt.subplots()\n",
    "plt.barh('Features', 'Feature_importance_Score',data=rfr_features)\n",
    "plt.xlabel(\"Feature_importances\", size=13)\n",
    "plt.ylabel(\"Features\", size=13)\n",
    "plt.xticks(rotation=90)\n",
    "ax.invert_yaxis()\n",
    "fig.tight_layout()\n",
    "plt.title(\"Horizontal Bar plot in Ascending Order for feature_importances\", size=16)\n",
    "plt.show()"
   ]
  },
  {
   "cell_type": "code",
   "execution_count": 304,
   "id": "educational-clear",
   "metadata": {},
   "outputs": [
    {
     "data": {
      "text/plain": [
       "0.816014665541672"
      ]
     },
     "execution_count": 304,
     "metadata": {},
     "output_type": "execute_result"
    }
   ],
   "source": [
    "r2_score(y_test,rfr_best.predict(X_test))"
   ]
  },
  {
   "cell_type": "code",
   "execution_count": 267,
   "id": "thousand-infection",
   "metadata": {},
   "outputs": [],
   "source": [
    "LR = LinearRegression()"
   ]
  },
  {
   "cell_type": "code",
   "execution_count": 268,
   "id": "atomic-milton",
   "metadata": {},
   "outputs": [
    {
     "data": {
      "text/plain": [
       "GridSearchCV(cv=5, estimator=LinearRegression(), n_jobs=1,\n",
       "             param_grid={'copy_X': [True, False],\n",
       "                         'fit_intercept': [True, False]},\n",
       "             scoring='neg_mean_squared_error')"
      ]
     },
     "execution_count": 268,
     "metadata": {},
     "output_type": "execute_result"
    }
   ],
   "source": [
    "gs_LR = GridSearchCV(LR, param_grid={'fit_intercept':[True,False],'copy_X':[True, False]},cv=5, n_jobs=1,scoring='neg_mean_squared_error')\n",
    "gs_LR.fit(X_train,y_train)"
   ]
  },
  {
   "cell_type": "code",
   "execution_count": 271,
   "id": "natural-monster",
   "metadata": {},
   "outputs": [
    {
     "data": {
      "text/plain": [
       "{'copy_X': True, 'fit_intercept': True}"
      ]
     },
     "execution_count": 271,
     "metadata": {},
     "output_type": "execute_result"
    }
   ],
   "source": [
    "gs_LR.best_params_ "
   ]
  },
  {
   "cell_type": "code",
   "execution_count": 272,
   "id": "horizontal-midwest",
   "metadata": {},
   "outputs": [
    {
     "data": {
      "text/plain": [
       "0.48645165048445266"
      ]
     },
     "execution_count": 272,
     "metadata": {},
     "output_type": "execute_result"
    }
   ],
   "source": [
    "LR = LinearRegression(fit_intercept= True, normalize = True)\n",
    "LR.fit(X_train, y_train)\n",
    "mean_squared_error(y_test, LR.predict(X_test), squared = False)"
   ]
  },
  {
   "cell_type": "code",
   "execution_count": 299,
   "id": "animated-melissa",
   "metadata": {},
   "outputs": [
    {
     "data": {
      "text/plain": [
       "0.49980686626647597"
      ]
     },
     "execution_count": 299,
     "metadata": {},
     "output_type": "execute_result"
    }
   ],
   "source": [
    "r2_score(y_test,LR.predict(X_test))"
   ]
  },
  {
   "cell_type": "code",
   "execution_count": 273,
   "id": "mediterranean-ghost",
   "metadata": {},
   "outputs": [
    {
     "data": {
      "text/plain": [
       "GridSearchCV(cv=5, estimator=Ridge(), n_jobs=1, param_grid={'alpha': [1, 10]},\n",
       "             scoring='neg_mean_squared_error')"
      ]
     },
     "execution_count": 273,
     "metadata": {},
     "output_type": "execute_result"
    }
   ],
   "source": [
    "ridge = Ridge()\n",
    "gs_ridge =  GridSearchCV(ridge, param_grid={'alpha':[1, 10]},cv=5, n_jobs=1,scoring='neg_mean_squared_error')\n",
    "gs_ridge.fit(X_train, y_train)"
   ]
  },
  {
   "cell_type": "code",
   "execution_count": 274,
   "id": "established-lottery",
   "metadata": {},
   "outputs": [
    {
     "data": {
      "text/plain": [
       "{'alpha': 10}"
      ]
     },
     "execution_count": 274,
     "metadata": {},
     "output_type": "execute_result"
    }
   ],
   "source": [
    "gs_ridge.best_params_"
   ]
  },
  {
   "cell_type": "code",
   "execution_count": 275,
   "id": "active-clinton",
   "metadata": {},
   "outputs": [
    {
     "data": {
      "text/plain": [
       "0.4864584331263023"
      ]
     },
     "execution_count": 275,
     "metadata": {},
     "output_type": "execute_result"
    }
   ],
   "source": [
    "ridge_best = Ridge(alpha = 10)\n",
    "ridge_best.fit(X_train, y_train)\n",
    "mean_squared_error(y_test, ridge_best.predict(X_test), squared = False)"
   ]
  },
  {
   "cell_type": "code",
   "execution_count": 300,
   "id": "proud-beast",
   "metadata": {},
   "outputs": [
    {
     "data": {
      "text/plain": [
       "0.4997929176879059"
      ]
     },
     "execution_count": 300,
     "metadata": {},
     "output_type": "execute_result"
    }
   ],
   "source": [
    "r2_score(y_test,ridge_best.predict(X_test))"
   ]
  },
  {
   "cell_type": "code",
   "execution_count": 276,
   "id": "native-firewall",
   "metadata": {},
   "outputs": [
    {
     "data": {
      "text/plain": [
       "GridSearchCV(cv=5, estimator=Lasso(), n_jobs=1, param_grid={'alpha': [1, 10]},\n",
       "             scoring='neg_mean_squared_error')"
      ]
     },
     "execution_count": 276,
     "metadata": {},
     "output_type": "execute_result"
    }
   ],
   "source": [
    "lasso = Lasso()\n",
    "gs_lasso =  GridSearchCV(lasso, param_grid={'alpha':[1, 10]},cv=5, n_jobs=1,scoring='neg_mean_squared_error')\n",
    "gs_lasso.fit(X_train, y_train)"
   ]
  },
  {
   "cell_type": "code",
   "execution_count": 277,
   "id": "fresh-manor",
   "metadata": {},
   "outputs": [
    {
     "data": {
      "text/plain": [
       "{'alpha': 1}"
      ]
     },
     "execution_count": 277,
     "metadata": {},
     "output_type": "execute_result"
    }
   ],
   "source": [
    "gs_lasso.best_params_"
   ]
  },
  {
   "cell_type": "code",
   "execution_count": 302,
   "id": "computational-polls",
   "metadata": {},
   "outputs": [
    {
     "data": {
      "text/plain": [
       "0.6879440154768739"
      ]
     },
     "execution_count": 302,
     "metadata": {},
     "output_type": "execute_result"
    }
   ],
   "source": [
    "Lasso_model = Lasso(alpha = 1)\n",
    "Lasso_model.fit(X_train, y_train)\n",
    "#Lasso_model.fit(X_train,y_train, **{'ExtraTrees__sample_weight': weights})\n",
    "mean_squared_error(y_test,Lasso_model.predict(X_test), squared = False) "
   ]
  },
  {
   "cell_type": "code",
   "execution_count": 303,
   "id": "female-beatles",
   "metadata": {},
   "outputs": [
    {
     "data": {
      "text/plain": [
       "-0.0003789789921835318"
      ]
     },
     "execution_count": 303,
     "metadata": {},
     "output_type": "execute_result"
    }
   ],
   "source": [
    "r2_score(y_test,Lasso_model.predict(X_test))"
   ]
  },
  {
   "cell_type": "code",
   "execution_count": 286,
   "id": "saved-suspension",
   "metadata": {},
   "outputs": [],
   "source": [
    "Poly = PolynomialFeatures(degree=2, interaction_only=True, include_bias=False)\n",
    "X_train = Poly.fit_transform(X_train)\n",
    "X_test = Poly.fit_transform(X_test)"
   ]
  },
  {
   "cell_type": "code",
   "execution_count": 287,
   "id": "southern-score",
   "metadata": {},
   "outputs": [
    {
     "name": "stdout",
     "output_type": "stream",
     "text": [
      "MAE: 0.336228\n",
      "RMSE: 0.466003\n",
      "R2 0.540976\n"
     ]
    }
   ],
   "source": [
    "lr = LinearRegression(copy_X= True, fit_intercept = True)\n",
    "lr.fit(X_train, y_train)\n",
    "lr_pred= lr.predict(X_test)\n",
    "\n",
    "print('MAE: %f'% mean_absolute_error(y_test, lr_pred))\n",
    "print('RMSE: %f'% np.sqrt(mean_squared_error(y_test, lr_pred)))   \n",
    "print('R2 %f' % r2_score(y_test, lr_pred))"
   ]
  },
  {
   "cell_type": "code",
   "execution_count": 288,
   "id": "considerable-novelty",
   "metadata": {},
   "outputs": [
    {
     "name": "stdout",
     "output_type": "stream",
     "text": [
      "MAE: 0.336054\n",
      "RMSE: 0.466158\n",
      "R2 0.540669\n"
     ]
    }
   ],
   "source": [
    "ridge_model = Ridge(alpha = 1)\n",
    "ridge_model.fit(X_train, y_train)             \n",
    "pred_ridge = ridge_model.predict(X_test) \n",
    "\n",
    "print('MAE: %f'% mean_absolute_error(y_test, pred_ridge))\n",
    "print('RMSE: %f'% np.sqrt(mean_squared_error(y_test, pred_ridge)))   \n",
    "print('R2 %f' % r2_score(y_test, pred_ridge))"
   ]
  },
  {
   "cell_type": "code",
   "execution_count": 289,
   "id": "cubic-thinking",
   "metadata": {},
   "outputs": [
    {
     "name": "stdout",
     "output_type": "stream",
     "text": [
      "MAE: 0.546532\n",
      "RMSE: 0.687944\n",
      "R2 -0.000379\n"
     ]
    }
   ],
   "source": [
    "Lasso_model.fit(X_train, y_train)\n",
    "lasso_pred = Lasso_model.predict(X_test)\n",
    "\n",
    "print('MAE: %f'% mean_absolute_error(y_test, lasso_pred))\n",
    "print('RMSE: %f'% np.sqrt(mean_squared_error(y_test, lasso_pred)))   \n",
    "print('R2 %f' % r2_score(y_test, lasso_pred))\n"
   ]
  },
  {
   "cell_type": "code",
   "execution_count": null,
   "id": "israeli-assumption",
   "metadata": {},
   "outputs": [],
   "source": []
  }
 ],
 "metadata": {
  "kernelspec": {
   "display_name": "Python 3",
   "language": "python",
   "name": "python3"
  },
  "language_info": {
   "codemirror_mode": {
    "name": "ipython",
    "version": 3
   },
   "file_extension": ".py",
   "mimetype": "text/x-python",
   "name": "python",
   "nbconvert_exporter": "python",
   "pygments_lexer": "ipython3",
   "version": "3.6.12"
  }
 },
 "nbformat": 4,
 "nbformat_minor": 5
}
